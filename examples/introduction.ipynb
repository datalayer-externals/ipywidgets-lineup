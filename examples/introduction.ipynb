{
 "cells": [
  {
   "cell_type": "code",
   "execution_count": null,
   "metadata": {},
   "outputs": [],
   "source": [
    "import lineup_widget\n",
    "import numpy as np\n",
    "import pandas as pd"
   ]
  },
  {
   "cell_type": "code",
   "execution_count": null,
   "metadata": {},
   "outputs": [],
   "source": [
    "df = pd.DataFrame(np.random.randint(0,100,size=(100, 4)), columns=list('ABCD'))"
   ]
  },
  {
   "cell_type": "code",
   "execution_count": null,
   "metadata": {},
   "outputs": [],
   "source": [
    "w = lineup_widget.LineUpWidget(df, options=dict(rowHeight=20))\n",
    "w.on_selection_changed(lambda selection: print(selection))\n",
    "w"
   ]
  },
  {
   "cell_type": "code",
   "execution_count": null,
   "metadata": {},
   "outputs": [],
   "source": [
    "from __future__ import print_function\n",
    "from ipywidgets import interact, interactive, interact_manual\n",
    "\n",
    "def f(selection):\n",
    "    return df.iloc[selection]\n",
    "\n",
    "interact(f, selection=lineup_widget.LineUpWidget(df, options=dict(rowHeight=20)));"
   ]
  },
  {
   "cell_type": "code",
   "execution_count": null,
   "metadata": {},
   "outputs": [],
   "source": [
    "lineup_widget.TaggleWidget(df, \n",
    "                           rankings=[dict(sort_by=['A:desc']), dict(sort_by=['B:desc'])],\n",
    "                           options=dict(rowHeight=20, overviewMode=True))"
   ]
  },
  {
   "cell_type": "code",
   "execution_count": null,
   "metadata": {},
   "outputs": [],
   "source": []
  },
  {
   "cell_type": "code",
   "execution_count": null,
   "metadata": {},
   "outputs": [],
   "source": []
  }
 ],
 "metadata": {
  "kernelspec": {
   "display_name": "Python 3 (ipykernel)",
   "language": "python",
   "name": "python3"
  },
  "language_info": {
   "codemirror_mode": {
    "name": "ipython",
    "version": 3
   },
   "file_extension": ".py",
   "mimetype": "text/x-python",
   "name": "python",
   "nbconvert_exporter": "python",
   "pygments_lexer": "ipython3",
   "version": "3.10.5"
  },
  "vscode": {
   "interpreter": {
    "hash": "43191785d8a93b130981be1a5526ce802037d0ba38916cb9ee8bd4fd71b51feb"
   }
  },
  "widgets": {
   "application/vnd.jupyter.widget-state+json": {
    "state": {
     "076acfb1b75e48f4bd6d3200a91a11d4": {
      "model_module": "lineup_widget",
      "model_module_version": "4.6.0",
      "model_name": "LineUpModel",
      "state": {
       "_columns": [
        {
         "colorMapping": "#1f77b4",
         "column": "A",
         "domain": [
          0,
          99
         ],
         "groupRenderer": "boxplot",
         "label": "A",
         "summaryRenderer": "histogram",
         "type": "number"
        },
        {
         "colorMapping": "#ff7f0e",
         "column": "B",
         "domain": [
          0,
          99
         ],
         "groupRenderer": "boxplot",
         "label": "B",
         "summaryRenderer": "histogram",
         "type": "number"
        },
        {
         "colorMapping": "#2ca02c",
         "column": "C",
         "domain": [
          1,
          99
         ],
         "groupRenderer": "boxplot",
         "label": "C",
         "summaryRenderer": "histogram",
         "type": "number"
        },
        {
         "colorMapping": "#d62728",
         "column": "D",
         "domain": [
          4,
          99
         ],
         "groupRenderer": "boxplot",
         "label": "D",
         "summaryRenderer": "histogram",
         "type": "number"
        }
       ],
       "_data": [
        {
         "A": 15,
         "B": 40,
         "C": 14,
         "D": 51
        },
        {
         "A": 80,
         "B": 19,
         "C": 58,
         "D": 12
        },
        {
         "A": 35,
         "B": 89,
         "C": 94,
         "D": 46
        },
        {
         "A": 1,
         "B": 36,
         "C": 99,
         "D": 25
        },
        {
         "A": 78,
         "B": 19,
         "C": 38,
         "D": 16
        },
        {
         "A": 96,
         "B": 41,
         "C": 48,
         "D": 78
        },
        {
         "A": 10,
         "B": 84,
         "C": 11,
         "D": 33
        },
        {
         "A": 87,
         "B": 67,
         "C": 6,
         "D": 36
        },
        {
         "A": 12,
         "B": 19,
         "C": 41,
         "D": 86
        },
        {
         "A": 88,
         "B": 73,
         "C": 42,
         "D": 24
        },
        {
         "A": 13,
         "B": 87,
         "C": 62,
         "D": 75
        },
        {
         "A": 0,
         "B": 95,
         "C": 44,
         "D": 69
        },
        {
         "A": 93,
         "B": 94,
         "C": 91,
         "D": 12
        },
        {
         "A": 93,
         "B": 99,
         "C": 76,
         "D": 75
        },
        {
         "A": 41,
         "B": 51,
         "C": 73,
         "D": 39
        },
        {
         "A": 46,
         "B": 66,
         "C": 32,
         "D": 4
        },
        {
         "A": 50,
         "B": 15,
         "C": 59,
         "D": 58
        },
        {
         "A": 34,
         "B": 53,
         "C": 20,
         "D": 94
        },
        {
         "A": 69,
         "B": 66,
         "C": 91,
         "D": 82
        },
        {
         "A": 14,
         "B": 11,
         "C": 3,
         "D": 50
        },
        {
         "A": 85,
         "B": 68,
         "C": 22,
         "D": 81
        },
        {
         "A": 6,
         "B": 97,
         "C": 78,
         "D": 72
        },
        {
         "A": 63,
         "B": 95,
         "C": 64,
         "D": 71
        },
        {
         "A": 43,
         "B": 93,
         "C": 85,
         "D": 82
        },
        {
         "A": 76,
         "B": 95,
         "C": 3,
         "D": 30
        },
        {
         "A": 53,
         "B": 40,
         "C": 54,
         "D": 48
        },
        {
         "A": 79,
         "B": 59,
         "C": 74,
         "D": 49
        },
        {
         "A": 94,
         "B": 24,
         "C": 41,
         "D": 32
        },
        {
         "A": 28,
         "B": 28,
         "C": 51,
         "D": 14
        },
        {
         "A": 3,
         "B": 78,
         "C": 8,
         "D": 59
        },
        {
         "A": 92,
         "B": 10,
         "C": 61,
         "D": 55
        },
        {
         "A": 26,
         "B": 9,
         "C": 22,
         "D": 62
        },
        {
         "A": 12,
         "B": 83,
         "C": 15,
         "D": 41
        },
        {
         "A": 17,
         "B": 38,
         "C": 62,
         "D": 22
        },
        {
         "A": 35,
         "B": 37,
         "C": 29,
         "D": 8
        },
        {
         "A": 90,
         "B": 69,
         "C": 80,
         "D": 81
        },
        {
         "A": 76,
         "B": 29,
         "C": 46,
         "D": 35
        },
        {
         "A": 43,
         "B": 51,
         "C": 69,
         "D": 17
        },
        {
         "A": 25,
         "B": 68,
         "C": 76,
         "D": 61
        },
        {
         "A": 58,
         "B": 74,
         "C": 48,
         "D": 38
        },
        {
         "A": 13,
         "B": 30,
         "C": 14,
         "D": 37
        },
        {
         "A": 76,
         "B": 10,
         "C": 86,
         "D": 39
        },
        {
         "A": 39,
         "B": 14,
         "C": 86,
         "D": 94
        },
        {
         "A": 26,
         "B": 90,
         "C": 48,
         "D": 80
        },
        {
         "A": 89,
         "B": 13,
         "C": 62,
         "D": 48
        },
        {
         "A": 32,
         "B": 66,
         "C": 22,
         "D": 30
        },
        {
         "A": 76,
         "B": 0,
         "C": 19,
         "D": 51
        },
        {
         "A": 32,
         "B": 60,
         "C": 41,
         "D": 37
        },
        {
         "A": 59,
         "B": 52,
         "C": 14,
         "D": 45
        },
        {
         "A": 22,
         "B": 59,
         "C": 87,
         "D": 81
        },
        {
         "A": 84,
         "B": 68,
         "C": 48,
         "D": 76
        },
        {
         "A": 93,
         "B": 87,
         "C": 24,
         "D": 44
        },
        {
         "A": 85,
         "B": 37,
         "C": 61,
         "D": 35
        },
        {
         "A": 40,
         "B": 44,
         "C": 5,
         "D": 8
        },
        {
         "A": 6,
         "B": 77,
         "C": 59,
         "D": 78
        },
        {
         "A": 75,
         "B": 67,
         "C": 15,
         "D": 51
        },
        {
         "A": 35,
         "B": 0,
         "C": 45,
         "D": 9
        },
        {
         "A": 18,
         "B": 49,
         "C": 24,
         "D": 23
        },
        {
         "A": 53,
         "B": 9,
         "C": 96,
         "D": 22
        },
        {
         "A": 59,
         "B": 98,
         "C": 48,
         "D": 33
        },
        {
         "A": 19,
         "B": 15,
         "C": 98,
         "D": 48
        },
        {
         "A": 76,
         "B": 43,
         "C": 44,
         "D": 41
        },
        {
         "A": 80,
         "B": 64,
         "C": 97,
         "D": 57
        },
        {
         "A": 97,
         "B": 87,
         "C": 35,
         "D": 70
        },
        {
         "A": 98,
         "B": 19,
         "C": 66,
         "D": 36
        },
        {
         "A": 94,
         "B": 84,
         "C": 45,
         "D": 85
        },
        {
         "A": 86,
         "B": 93,
         "C": 45,
         "D": 56
        },
        {
         "A": 71,
         "B": 60,
         "C": 55,
         "D": 98
        },
        {
         "A": 32,
         "B": 30,
         "C": 71,
         "D": 5
        },
        {
         "A": 71,
         "B": 44,
         "C": 87,
         "D": 16
        },
        {
         "A": 42,
         "B": 39,
         "C": 91,
         "D": 86
        },
        {
         "A": 41,
         "B": 89,
         "C": 86,
         "D": 21
        },
        {
         "A": 51,
         "B": 80,
         "C": 13,
         "D": 91
        },
        {
         "A": 5,
         "B": 54,
         "C": 19,
         "D": 58
        },
        {
         "A": 4,
         "B": 20,
         "C": 20,
         "D": 35
        },
        {
         "A": 37,
         "B": 44,
         "C": 58,
         "D": 51
        },
        {
         "A": 44,
         "B": 88,
         "C": 21,
         "D": 99
        },
        {
         "A": 82,
         "B": 21,
         "C": 1,
         "D": 98
        },
        {
         "A": 92,
         "B": 34,
         "C": 24,
         "D": 32
        },
        {
         "A": 28,
         "B": 49,
         "C": 67,
         "D": 92
        },
        {
         "A": 11,
         "B": 83,
         "C": 32,
         "D": 25
        },
        {
         "A": 63,
         "B": 93,
         "C": 36,
         "D": 27
        },
        {
         "A": 29,
         "B": 46,
         "C": 77,
         "D": 75
        },
        {
         "A": 93,
         "B": 45,
         "C": 79,
         "D": 38
        },
        {
         "A": 69,
         "B": 84,
         "C": 14,
         "D": 7
        },
        {
         "A": 1,
         "B": 89,
         "C": 96,
         "D": 39
        },
        {
         "A": 31,
         "B": 58,
         "C": 22,
         "D": 89
        },
        {
         "A": 26,
         "B": 64,
         "C": 79,
         "D": 98
        },
        {
         "A": 3,
         "B": 94,
         "C": 66,
         "D": 60
        },
        {
         "A": 43,
         "B": 80,
         "C": 28,
         "D": 57
        },
        {
         "A": 7,
         "B": 73,
         "C": 49,
         "D": 23
        },
        {
         "A": 16,
         "B": 70,
         "C": 70,
         "D": 24
        },
        {
         "A": 33,
         "B": 25,
         "C": 50,
         "D": 75
        },
        {
         "A": 58,
         "B": 9,
         "C": 13,
         "D": 61
        },
        {
         "A": 39,
         "B": 71,
         "C": 75,
         "D": 50
        },
        {
         "A": 64,
         "B": 45,
         "C": 5,
         "D": 39
        },
        {
         "A": 72,
         "B": 23,
         "C": 14,
         "D": 18
        },
        {
         "A": 16,
         "B": 29,
         "C": 58,
         "D": 62
        },
        {
         "A": 99,
         "B": 22,
         "C": 23,
         "D": 52
        },
        {
         "A": 39,
         "B": 86,
         "C": 44,
         "D": 16
        }
       ],
       "description": "selection",
       "layout": "IPY_MODEL_1a5d65a06b734d3f97eeee274ded3856",
       "options": {
        "rowHeight": 20
       }
      }
     },
     "1a5d65a06b734d3f97eeee274ded3856": {
      "model_module": "@jupyter-widgets/base",
      "model_module_version": "1.2.0",
      "model_name": "LayoutModel",
      "state": {
       "align_self": "stretch",
       "height": "600px"
      }
     },
     "23f9d6dd3e9548a7a2c2c186dad4eb39": {
      "model_module": "@jupyter-widgets/controls",
      "model_module_version": "1.5.0",
      "model_name": "VBoxModel",
      "state": {
       "_dom_classes": [
        "widget-interact"
       ],
       "children": [
        "IPY_MODEL_076acfb1b75e48f4bd6d3200a91a11d4",
        "IPY_MODEL_e36cccb2b16249bb94c667832ab875c8"
       ],
       "layout": "IPY_MODEL_2aa4ba0f6c7b4f1d9696fd733e68de6e"
      }
     },
     "2aa4ba0f6c7b4f1d9696fd733e68de6e": {
      "model_module": "@jupyter-widgets/base",
      "model_module_version": "1.2.0",
      "model_name": "LayoutModel",
      "state": {}
     },
     "4ecfd70665764b59b4073bf2841c440f": {
      "model_module": "lineup_widget",
      "model_module_version": "4.6.0",
      "model_name": "TaggleModel",
      "state": {
       "_columns": [
        {
         "colorMapping": "#1f77b4",
         "column": "A",
         "domain": [
          0,
          99
         ],
         "groupRenderer": "boxplot",
         "label": "A",
         "summaryRenderer": "histogram",
         "type": "number"
        },
        {
         "colorMapping": "#ff7f0e",
         "column": "B",
         "domain": [
          0,
          99
         ],
         "groupRenderer": "boxplot",
         "label": "B",
         "summaryRenderer": "histogram",
         "type": "number"
        },
        {
         "colorMapping": "#2ca02c",
         "column": "C",
         "domain": [
          1,
          99
         ],
         "groupRenderer": "boxplot",
         "label": "C",
         "summaryRenderer": "histogram",
         "type": "number"
        },
        {
         "colorMapping": "#d62728",
         "column": "D",
         "domain": [
          4,
          99
         ],
         "groupRenderer": "boxplot",
         "label": "D",
         "summaryRenderer": "histogram",
         "type": "number"
        }
       ],
       "_data": [
        {
         "A": 15,
         "B": 40,
         "C": 14,
         "D": 51
        },
        {
         "A": 80,
         "B": 19,
         "C": 58,
         "D": 12
        },
        {
         "A": 35,
         "B": 89,
         "C": 94,
         "D": 46
        },
        {
         "A": 1,
         "B": 36,
         "C": 99,
         "D": 25
        },
        {
         "A": 78,
         "B": 19,
         "C": 38,
         "D": 16
        },
        {
         "A": 96,
         "B": 41,
         "C": 48,
         "D": 78
        },
        {
         "A": 10,
         "B": 84,
         "C": 11,
         "D": 33
        },
        {
         "A": 87,
         "B": 67,
         "C": 6,
         "D": 36
        },
        {
         "A": 12,
         "B": 19,
         "C": 41,
         "D": 86
        },
        {
         "A": 88,
         "B": 73,
         "C": 42,
         "D": 24
        },
        {
         "A": 13,
         "B": 87,
         "C": 62,
         "D": 75
        },
        {
         "A": 0,
         "B": 95,
         "C": 44,
         "D": 69
        },
        {
         "A": 93,
         "B": 94,
         "C": 91,
         "D": 12
        },
        {
         "A": 93,
         "B": 99,
         "C": 76,
         "D": 75
        },
        {
         "A": 41,
         "B": 51,
         "C": 73,
         "D": 39
        },
        {
         "A": 46,
         "B": 66,
         "C": 32,
         "D": 4
        },
        {
         "A": 50,
         "B": 15,
         "C": 59,
         "D": 58
        },
        {
         "A": 34,
         "B": 53,
         "C": 20,
         "D": 94
        },
        {
         "A": 69,
         "B": 66,
         "C": 91,
         "D": 82
        },
        {
         "A": 14,
         "B": 11,
         "C": 3,
         "D": 50
        },
        {
         "A": 85,
         "B": 68,
         "C": 22,
         "D": 81
        },
        {
         "A": 6,
         "B": 97,
         "C": 78,
         "D": 72
        },
        {
         "A": 63,
         "B": 95,
         "C": 64,
         "D": 71
        },
        {
         "A": 43,
         "B": 93,
         "C": 85,
         "D": 82
        },
        {
         "A": 76,
         "B": 95,
         "C": 3,
         "D": 30
        },
        {
         "A": 53,
         "B": 40,
         "C": 54,
         "D": 48
        },
        {
         "A": 79,
         "B": 59,
         "C": 74,
         "D": 49
        },
        {
         "A": 94,
         "B": 24,
         "C": 41,
         "D": 32
        },
        {
         "A": 28,
         "B": 28,
         "C": 51,
         "D": 14
        },
        {
         "A": 3,
         "B": 78,
         "C": 8,
         "D": 59
        },
        {
         "A": 92,
         "B": 10,
         "C": 61,
         "D": 55
        },
        {
         "A": 26,
         "B": 9,
         "C": 22,
         "D": 62
        },
        {
         "A": 12,
         "B": 83,
         "C": 15,
         "D": 41
        },
        {
         "A": 17,
         "B": 38,
         "C": 62,
         "D": 22
        },
        {
         "A": 35,
         "B": 37,
         "C": 29,
         "D": 8
        },
        {
         "A": 90,
         "B": 69,
         "C": 80,
         "D": 81
        },
        {
         "A": 76,
         "B": 29,
         "C": 46,
         "D": 35
        },
        {
         "A": 43,
         "B": 51,
         "C": 69,
         "D": 17
        },
        {
         "A": 25,
         "B": 68,
         "C": 76,
         "D": 61
        },
        {
         "A": 58,
         "B": 74,
         "C": 48,
         "D": 38
        },
        {
         "A": 13,
         "B": 30,
         "C": 14,
         "D": 37
        },
        {
         "A": 76,
         "B": 10,
         "C": 86,
         "D": 39
        },
        {
         "A": 39,
         "B": 14,
         "C": 86,
         "D": 94
        },
        {
         "A": 26,
         "B": 90,
         "C": 48,
         "D": 80
        },
        {
         "A": 89,
         "B": 13,
         "C": 62,
         "D": 48
        },
        {
         "A": 32,
         "B": 66,
         "C": 22,
         "D": 30
        },
        {
         "A": 76,
         "B": 0,
         "C": 19,
         "D": 51
        },
        {
         "A": 32,
         "B": 60,
         "C": 41,
         "D": 37
        },
        {
         "A": 59,
         "B": 52,
         "C": 14,
         "D": 45
        },
        {
         "A": 22,
         "B": 59,
         "C": 87,
         "D": 81
        },
        {
         "A": 84,
         "B": 68,
         "C": 48,
         "D": 76
        },
        {
         "A": 93,
         "B": 87,
         "C": 24,
         "D": 44
        },
        {
         "A": 85,
         "B": 37,
         "C": 61,
         "D": 35
        },
        {
         "A": 40,
         "B": 44,
         "C": 5,
         "D": 8
        },
        {
         "A": 6,
         "B": 77,
         "C": 59,
         "D": 78
        },
        {
         "A": 75,
         "B": 67,
         "C": 15,
         "D": 51
        },
        {
         "A": 35,
         "B": 0,
         "C": 45,
         "D": 9
        },
        {
         "A": 18,
         "B": 49,
         "C": 24,
         "D": 23
        },
        {
         "A": 53,
         "B": 9,
         "C": 96,
         "D": 22
        },
        {
         "A": 59,
         "B": 98,
         "C": 48,
         "D": 33
        },
        {
         "A": 19,
         "B": 15,
         "C": 98,
         "D": 48
        },
        {
         "A": 76,
         "B": 43,
         "C": 44,
         "D": 41
        },
        {
         "A": 80,
         "B": 64,
         "C": 97,
         "D": 57
        },
        {
         "A": 97,
         "B": 87,
         "C": 35,
         "D": 70
        },
        {
         "A": 98,
         "B": 19,
         "C": 66,
         "D": 36
        },
        {
         "A": 94,
         "B": 84,
         "C": 45,
         "D": 85
        },
        {
         "A": 86,
         "B": 93,
         "C": 45,
         "D": 56
        },
        {
         "A": 71,
         "B": 60,
         "C": 55,
         "D": 98
        },
        {
         "A": 32,
         "B": 30,
         "C": 71,
         "D": 5
        },
        {
         "A": 71,
         "B": 44,
         "C": 87,
         "D": 16
        },
        {
         "A": 42,
         "B": 39,
         "C": 91,
         "D": 86
        },
        {
         "A": 41,
         "B": 89,
         "C": 86,
         "D": 21
        },
        {
         "A": 51,
         "B": 80,
         "C": 13,
         "D": 91
        },
        {
         "A": 5,
         "B": 54,
         "C": 19,
         "D": 58
        },
        {
         "A": 4,
         "B": 20,
         "C": 20,
         "D": 35
        },
        {
         "A": 37,
         "B": 44,
         "C": 58,
         "D": 51
        },
        {
         "A": 44,
         "B": 88,
         "C": 21,
         "D": 99
        },
        {
         "A": 82,
         "B": 21,
         "C": 1,
         "D": 98
        },
        {
         "A": 92,
         "B": 34,
         "C": 24,
         "D": 32
        },
        {
         "A": 28,
         "B": 49,
         "C": 67,
         "D": 92
        },
        {
         "A": 11,
         "B": 83,
         "C": 32,
         "D": 25
        },
        {
         "A": 63,
         "B": 93,
         "C": 36,
         "D": 27
        },
        {
         "A": 29,
         "B": 46,
         "C": 77,
         "D": 75
        },
        {
         "A": 93,
         "B": 45,
         "C": 79,
         "D": 38
        },
        {
         "A": 69,
         "B": 84,
         "C": 14,
         "D": 7
        },
        {
         "A": 1,
         "B": 89,
         "C": 96,
         "D": 39
        },
        {
         "A": 31,
         "B": 58,
         "C": 22,
         "D": 89
        },
        {
         "A": 26,
         "B": 64,
         "C": 79,
         "D": 98
        },
        {
         "A": 3,
         "B": 94,
         "C": 66,
         "D": 60
        },
        {
         "A": 43,
         "B": 80,
         "C": 28,
         "D": 57
        },
        {
         "A": 7,
         "B": 73,
         "C": 49,
         "D": 23
        },
        {
         "A": 16,
         "B": 70,
         "C": 70,
         "D": 24
        },
        {
         "A": 33,
         "B": 25,
         "C": 50,
         "D": 75
        },
        {
         "A": 58,
         "B": 9,
         "C": 13,
         "D": 61
        },
        {
         "A": 39,
         "B": 71,
         "C": 75,
         "D": 50
        },
        {
         "A": 64,
         "B": 45,
         "C": 5,
         "D": 39
        },
        {
         "A": 72,
         "B": 23,
         "C": 14,
         "D": 18
        },
        {
         "A": 16,
         "B": 29,
         "C": 58,
         "D": 62
        },
        {
         "A": 99,
         "B": 22,
         "C": 23,
         "D": 52
        },
        {
         "A": 39,
         "B": 86,
         "C": 44,
         "D": 16
        }
       ],
       "description": "",
       "layout": "IPY_MODEL_7484c55fdf7d4c729c13ea0164b43f28",
       "options": {
        "overviewMode": true,
        "rowHeight": 20
       },
       "rankings": [
        {
         "sort_by": [
          "A:desc"
         ]
        },
        {
         "sort_by": [
          "B:desc"
         ]
        }
       ]
      }
     },
     "7484c55fdf7d4c729c13ea0164b43f28": {
      "model_module": "@jupyter-widgets/base",
      "model_module_version": "1.2.0",
      "model_name": "LayoutModel",
      "state": {
       "align_self": "stretch",
       "height": "600px"
      }
     },
     "9ec384e60d8847ad926f4920185390fa": {
      "model_module": "@jupyter-widgets/base",
      "model_module_version": "1.2.0",
      "model_name": "LayoutModel",
      "state": {
       "align_self": "stretch",
       "height": "600px"
      }
     },
     "d84a8a5f4f7a4c9da5a5adc414246850": {
      "model_module": "@jupyter-widgets/base",
      "model_module_version": "1.2.0",
      "model_name": "LayoutModel",
      "state": {}
     },
     "e36cccb2b16249bb94c667832ab875c8": {
      "model_module": "@jupyter-widgets/output",
      "model_module_version": "1.0.0",
      "model_name": "OutputModel",
      "state": {
       "layout": "IPY_MODEL_d84a8a5f4f7a4c9da5a5adc414246850",
       "outputs": [
        {
         "data": {
          "text/html": "<div>\n<style scoped>\n    .dataframe tbody tr th:only-of-type {\n        vertical-align: middle;\n    }\n\n    .dataframe tbody tr th {\n        vertical-align: top;\n    }\n\n    .dataframe thead th {\n        text-align: right;\n    }\n</style>\n<table border=\"1\" class=\"dataframe\">\n  <thead>\n    <tr style=\"text-align: right;\">\n      <th></th>\n      <th>A</th>\n      <th>B</th>\n      <th>C</th>\n      <th>D</th>\n    </tr>\n  </thead>\n  <tbody>\n  </tbody>\n</table>\n</div>",
          "text/plain": "Empty DataFrame\nColumns: [A, B, C, D]\nIndex: []"
         },
         "metadata": {},
         "output_type": "display_data"
        }
       ]
      }
     },
     "ebe199b4f4bf4bd8946d020f392cbda3": {
      "model_module": "lineup_widget",
      "model_module_version": "4.6.0",
      "model_name": "LineUpModel",
      "state": {
       "_columns": [
        {
         "colorMapping": "#1f77b4",
         "column": "A",
         "domain": [
          0,
          99
         ],
         "groupRenderer": "boxplot",
         "label": "A",
         "summaryRenderer": "histogram",
         "type": "number"
        },
        {
         "colorMapping": "#ff7f0e",
         "column": "B",
         "domain": [
          0,
          99
         ],
         "groupRenderer": "boxplot",
         "label": "B",
         "summaryRenderer": "histogram",
         "type": "number"
        },
        {
         "colorMapping": "#2ca02c",
         "column": "C",
         "domain": [
          1,
          99
         ],
         "groupRenderer": "boxplot",
         "label": "C",
         "summaryRenderer": "histogram",
         "type": "number"
        },
        {
         "colorMapping": "#d62728",
         "column": "D",
         "domain": [
          4,
          99
         ],
         "groupRenderer": "boxplot",
         "label": "D",
         "summaryRenderer": "histogram",
         "type": "number"
        }
       ],
       "_data": [
        {
         "A": 15,
         "B": 40,
         "C": 14,
         "D": 51
        },
        {
         "A": 80,
         "B": 19,
         "C": 58,
         "D": 12
        },
        {
         "A": 35,
         "B": 89,
         "C": 94,
         "D": 46
        },
        {
         "A": 1,
         "B": 36,
         "C": 99,
         "D": 25
        },
        {
         "A": 78,
         "B": 19,
         "C": 38,
         "D": 16
        },
        {
         "A": 96,
         "B": 41,
         "C": 48,
         "D": 78
        },
        {
         "A": 10,
         "B": 84,
         "C": 11,
         "D": 33
        },
        {
         "A": 87,
         "B": 67,
         "C": 6,
         "D": 36
        },
        {
         "A": 12,
         "B": 19,
         "C": 41,
         "D": 86
        },
        {
         "A": 88,
         "B": 73,
         "C": 42,
         "D": 24
        },
        {
         "A": 13,
         "B": 87,
         "C": 62,
         "D": 75
        },
        {
         "A": 0,
         "B": 95,
         "C": 44,
         "D": 69
        },
        {
         "A": 93,
         "B": 94,
         "C": 91,
         "D": 12
        },
        {
         "A": 93,
         "B": 99,
         "C": 76,
         "D": 75
        },
        {
         "A": 41,
         "B": 51,
         "C": 73,
         "D": 39
        },
        {
         "A": 46,
         "B": 66,
         "C": 32,
         "D": 4
        },
        {
         "A": 50,
         "B": 15,
         "C": 59,
         "D": 58
        },
        {
         "A": 34,
         "B": 53,
         "C": 20,
         "D": 94
        },
        {
         "A": 69,
         "B": 66,
         "C": 91,
         "D": 82
        },
        {
         "A": 14,
         "B": 11,
         "C": 3,
         "D": 50
        },
        {
         "A": 85,
         "B": 68,
         "C": 22,
         "D": 81
        },
        {
         "A": 6,
         "B": 97,
         "C": 78,
         "D": 72
        },
        {
         "A": 63,
         "B": 95,
         "C": 64,
         "D": 71
        },
        {
         "A": 43,
         "B": 93,
         "C": 85,
         "D": 82
        },
        {
         "A": 76,
         "B": 95,
         "C": 3,
         "D": 30
        },
        {
         "A": 53,
         "B": 40,
         "C": 54,
         "D": 48
        },
        {
         "A": 79,
         "B": 59,
         "C": 74,
         "D": 49
        },
        {
         "A": 94,
         "B": 24,
         "C": 41,
         "D": 32
        },
        {
         "A": 28,
         "B": 28,
         "C": 51,
         "D": 14
        },
        {
         "A": 3,
         "B": 78,
         "C": 8,
         "D": 59
        },
        {
         "A": 92,
         "B": 10,
         "C": 61,
         "D": 55
        },
        {
         "A": 26,
         "B": 9,
         "C": 22,
         "D": 62
        },
        {
         "A": 12,
         "B": 83,
         "C": 15,
         "D": 41
        },
        {
         "A": 17,
         "B": 38,
         "C": 62,
         "D": 22
        },
        {
         "A": 35,
         "B": 37,
         "C": 29,
         "D": 8
        },
        {
         "A": 90,
         "B": 69,
         "C": 80,
         "D": 81
        },
        {
         "A": 76,
         "B": 29,
         "C": 46,
         "D": 35
        },
        {
         "A": 43,
         "B": 51,
         "C": 69,
         "D": 17
        },
        {
         "A": 25,
         "B": 68,
         "C": 76,
         "D": 61
        },
        {
         "A": 58,
         "B": 74,
         "C": 48,
         "D": 38
        },
        {
         "A": 13,
         "B": 30,
         "C": 14,
         "D": 37
        },
        {
         "A": 76,
         "B": 10,
         "C": 86,
         "D": 39
        },
        {
         "A": 39,
         "B": 14,
         "C": 86,
         "D": 94
        },
        {
         "A": 26,
         "B": 90,
         "C": 48,
         "D": 80
        },
        {
         "A": 89,
         "B": 13,
         "C": 62,
         "D": 48
        },
        {
         "A": 32,
         "B": 66,
         "C": 22,
         "D": 30
        },
        {
         "A": 76,
         "B": 0,
         "C": 19,
         "D": 51
        },
        {
         "A": 32,
         "B": 60,
         "C": 41,
         "D": 37
        },
        {
         "A": 59,
         "B": 52,
         "C": 14,
         "D": 45
        },
        {
         "A": 22,
         "B": 59,
         "C": 87,
         "D": 81
        },
        {
         "A": 84,
         "B": 68,
         "C": 48,
         "D": 76
        },
        {
         "A": 93,
         "B": 87,
         "C": 24,
         "D": 44
        },
        {
         "A": 85,
         "B": 37,
         "C": 61,
         "D": 35
        },
        {
         "A": 40,
         "B": 44,
         "C": 5,
         "D": 8
        },
        {
         "A": 6,
         "B": 77,
         "C": 59,
         "D": 78
        },
        {
         "A": 75,
         "B": 67,
         "C": 15,
         "D": 51
        },
        {
         "A": 35,
         "B": 0,
         "C": 45,
         "D": 9
        },
        {
         "A": 18,
         "B": 49,
         "C": 24,
         "D": 23
        },
        {
         "A": 53,
         "B": 9,
         "C": 96,
         "D": 22
        },
        {
         "A": 59,
         "B": 98,
         "C": 48,
         "D": 33
        },
        {
         "A": 19,
         "B": 15,
         "C": 98,
         "D": 48
        },
        {
         "A": 76,
         "B": 43,
         "C": 44,
         "D": 41
        },
        {
         "A": 80,
         "B": 64,
         "C": 97,
         "D": 57
        },
        {
         "A": 97,
         "B": 87,
         "C": 35,
         "D": 70
        },
        {
         "A": 98,
         "B": 19,
         "C": 66,
         "D": 36
        },
        {
         "A": 94,
         "B": 84,
         "C": 45,
         "D": 85
        },
        {
         "A": 86,
         "B": 93,
         "C": 45,
         "D": 56
        },
        {
         "A": 71,
         "B": 60,
         "C": 55,
         "D": 98
        },
        {
         "A": 32,
         "B": 30,
         "C": 71,
         "D": 5
        },
        {
         "A": 71,
         "B": 44,
         "C": 87,
         "D": 16
        },
        {
         "A": 42,
         "B": 39,
         "C": 91,
         "D": 86
        },
        {
         "A": 41,
         "B": 89,
         "C": 86,
         "D": 21
        },
        {
         "A": 51,
         "B": 80,
         "C": 13,
         "D": 91
        },
        {
         "A": 5,
         "B": 54,
         "C": 19,
         "D": 58
        },
        {
         "A": 4,
         "B": 20,
         "C": 20,
         "D": 35
        },
        {
         "A": 37,
         "B": 44,
         "C": 58,
         "D": 51
        },
        {
         "A": 44,
         "B": 88,
         "C": 21,
         "D": 99
        },
        {
         "A": 82,
         "B": 21,
         "C": 1,
         "D": 98
        },
        {
         "A": 92,
         "B": 34,
         "C": 24,
         "D": 32
        },
        {
         "A": 28,
         "B": 49,
         "C": 67,
         "D": 92
        },
        {
         "A": 11,
         "B": 83,
         "C": 32,
         "D": 25
        },
        {
         "A": 63,
         "B": 93,
         "C": 36,
         "D": 27
        },
        {
         "A": 29,
         "B": 46,
         "C": 77,
         "D": 75
        },
        {
         "A": 93,
         "B": 45,
         "C": 79,
         "D": 38
        },
        {
         "A": 69,
         "B": 84,
         "C": 14,
         "D": 7
        },
        {
         "A": 1,
         "B": 89,
         "C": 96,
         "D": 39
        },
        {
         "A": 31,
         "B": 58,
         "C": 22,
         "D": 89
        },
        {
         "A": 26,
         "B": 64,
         "C": 79,
         "D": 98
        },
        {
         "A": 3,
         "B": 94,
         "C": 66,
         "D": 60
        },
        {
         "A": 43,
         "B": 80,
         "C": 28,
         "D": 57
        },
        {
         "A": 7,
         "B": 73,
         "C": 49,
         "D": 23
        },
        {
         "A": 16,
         "B": 70,
         "C": 70,
         "D": 24
        },
        {
         "A": 33,
         "B": 25,
         "C": 50,
         "D": 75
        },
        {
         "A": 58,
         "B": 9,
         "C": 13,
         "D": 61
        },
        {
         "A": 39,
         "B": 71,
         "C": 75,
         "D": 50
        },
        {
         "A": 64,
         "B": 45,
         "C": 5,
         "D": 39
        },
        {
         "A": 72,
         "B": 23,
         "C": 14,
         "D": 18
        },
        {
         "A": 16,
         "B": 29,
         "C": 58,
         "D": 62
        },
        {
         "A": 99,
         "B": 22,
         "C": 23,
         "D": 52
        },
        {
         "A": 39,
         "B": 86,
         "C": 44,
         "D": 16
        }
       ],
       "description": "",
       "layout": "IPY_MODEL_9ec384e60d8847ad926f4920185390fa",
       "options": {
        "rowHeight": 20
       },
       "value": [
        82,
        83,
        84,
        85,
        86,
        87,
        88,
        89,
        90,
        91,
        92
       ]
      }
     }
    },
    "version_major": 2,
    "version_minor": 0
   }
  }
 },
 "nbformat": 4,
 "nbformat_minor": 4
}
